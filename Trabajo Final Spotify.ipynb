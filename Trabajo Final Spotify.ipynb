{
  "cells": [
    {
      "cell_type": "markdown",
      "metadata": {
        "id": "-wqyQ0XdvViP"
      },
      "source": [
        "### **PRESENTACIÓN IAA**"
      ]
    },
    {
      "cell_type": "code",
      "execution_count": 48,
      "metadata": {
        "id": "Z3GDSo1lMEZ5"
      },
      "outputs": [],
      "source": [
        "import numpy as np\n",
        "import pandas as pd\n",
        "from sklearn.datasets import fetch_openml\n",
        "from sklearn.model_selection import cross_validate\n",
        "from sklearn.model_selection import cross_val_predict\n",
        "from sklearn.model_selection import cross_val_score\n",
        "from sklearn.ensemble import RandomForestClassifier\n",
        "import random\n",
        "import matplotlib.pyplot as plt\n",
        "import seaborn as sns\n",
        "from sklearn.metrics import accuracy_score, classification_report, confusion_matrix\n",
        "from sklearn.model_selection import train_test_split\n",
        "import random\n",
        "from imblearn.over_sampling import SMOTE\n",
        "from itertools import combinations\n",
        "\n",
        "# DATASETS\n",
        "df1 = pd.read_csv('/content/train.csv')\n",
        "df2 = pd.read_csv('/content/test.csv')\n",
        "target_exp = pd.read_csv('/content/submission.csv')\n",
        "df = pd.concat([df1, df2], ignore_index = True)       # Concatenacion de datasets\n",
        "\n",
        "#df"
      ]
    },
    {
      "cell_type": "markdown",
      "metadata": {
        "id": "P3sHAour0hKV"
      },
      "source": [
        "## **LIMPIEZA**"
      ]
    },
    {
      "cell_type": "code",
      "execution_count": 49,
      "metadata": {
        "id": "tZvYRnkf0gtN"
      },
      "outputs": [],
      "source": [
        "filas_duplicadas = df.duplicated().sum()\n",
        "#print(f\"La cantidad de filas duplicadas es: {filas_duplicadas}\")\n",
        "\n",
        "nan_counts = df.isna().sum()\n",
        "#print(f\"La cantidad de filas duplicadas es: {nan_counts}\")\n",
        "\n",
        "df = df.drop_duplicates()                             # Eliminacion de duplicados\n",
        "df = df.dropna(subset=['Class'])                        # Sacar NaN de Class\n",
        "df = df.dropna(subset=['Popularity'])             # Sacar NaN de Popularity\n",
        "df = df.dropna(subset=['instrumentalness'])       # Sacar NaN de instrumentalness\n",
        "\n",
        "clases = ['Folk Acústico', 'Música Alternativa', 'Blues', 'Bollywood', 'Country', 'Hip-Hop', 'Indie Alternativo', 'Instrumental', 'Metal', 'Pop', 'Rock']\n",
        "\n",
        "df['Rock'] = df['Class'].apply(lambda x: True if x == 10 else False)\n",
        "\n",
        "df['ClassName'] = df['Class'].apply(lambda x: clases[int(x)])  #Le agrego los nombres\n",
        "\n",
        "conteo_clases = df['ClassName'].value_counts()       # Cantidad de clases que hay en el df\n",
        "#print(conteo_clases)"
      ]
    },
    {
      "cell_type": "markdown",
      "source": [
        "## **EXPLORACIÓN DE LOS DATOS**"
      ],
      "metadata": {
        "id": "gPHi66yaaBeI"
      }
    },
    {
      "cell_type": "markdown",
      "metadata": {
        "id": "yPfY319n1woD"
      },
      "source": [
        "**Boxplot por clase**"
      ]
    },
    {
      "cell_type": "code",
      "execution_count": null,
      "metadata": {
        "id": "6V34ZijhueJQ"
      },
      "outputs": [],
      "source": [
        "# EXPLORANDO DATASET\n",
        "\n",
        "grouped = df.groupby(\"Class\")\n",
        "\n",
        "dataframes = [group for _, group in grouped]\n",
        "\n",
        "plt.figure(figsize=(10, 6))\n",
        "plt.boxplot([df[\"liveness\"] for df in dataframes], labels=[name for name, _ in grouped])\n",
        "plt.xlabel(\"Class\")\n",
        "plt.ylabel(\"liveness\")\n",
        "plt.title(\"Boxplot por Clase\")\n",
        "plt.show()"
      ]
    },
    {
      "cell_type": "markdown",
      "metadata": {
        "id": "ys7aMV8910hN"
      },
      "source": [
        "**Graficos por atributo**"
      ]
    },
    {
      "cell_type": "code",
      "execution_count": null,
      "metadata": {
        "id": "BaLodPkSj_mA"
      },
      "outputs": [],
      "source": [
        "# GRAFICOS Relacione entre atributos\n",
        "\n",
        "# Ver si podemos encontrar generos que sean parecidos en sus atributos y fusionarlos\n",
        "\n",
        "colores = ['red', 'blue', 'green', 'yellow', 'orange', 'purple', 'pink', 'brown', 'cyan', 'magenta', 'black']\n",
        "\n",
        "#Todas las combinaciones de las variables\n",
        "\n",
        "combinaciones = [\n",
        "    ('Popularity', 'danceability'),\n",
        "    ('Popularity', 'energy'),\n",
        "    ('Popularity', 'loudness'),\n",
        "    ('Popularity', 'speechiness'),\n",
        "    ('Popularity', 'acousticness'),\n",
        "    ('Popularity', 'instrumentalness'),\n",
        "    ('Popularity', 'valence'),\n",
        "    ('danceability', 'energy'),\n",
        "    ('danceability', 'loudness'),\n",
        "    ('danceability', 'speechiness'),\n",
        "    ('danceability', 'acousticness'),\n",
        "    ('danceability', 'instrumentalness'),\n",
        "    ('danceability', 'valence'),\n",
        "    ('energy', 'loudness'),\n",
        "    ('energy', 'speechiness'),\n",
        "    ('energy', 'acousticness'),\n",
        "    ('energy', 'instrumentalness'),\n",
        "    ('energy', 'valence'),\n",
        "    ('loudness', 'speechiness'),\n",
        "    ('loudness', 'acousticness'),\n",
        "    ('loudness', 'instrumentalness'),\n",
        "    ('loudness', 'valence'),\n",
        "    ('speechiness', 'acousticness'),\n",
        "    ('speechiness', 'instrumentalness'),\n",
        "    ('speechiness', 'valence'),\n",
        "    ('acousticness', 'instrumentalness'),\n",
        "    ('acousticness', 'valence'),\n",
        "    ('instrumentalness', 'valence')\n",
        "]\n",
        "for comb in combinaciones:\n",
        "  print(comb)\n",
        "  for df in dataframes:\n",
        "\n",
        "      x_clase = df[comb[0]].apply(float)\n",
        "      y_clase = df[comb[1]].apply(float)\n",
        "      color = colores[int(df['Class'].loc[df.index[0]])]\n",
        "\n",
        "      clase_str = str(df['Class'].loc[df.index[0]])\n",
        "      plt.title(clase_str)\n",
        "      plt.scatter(x_clase, y_clase, c=color, label='Clase ' + clase_str)\n",
        "      plt.legend()\n",
        "      plt.show()"
      ]
    },
    {
      "cell_type": "markdown",
      "metadata": {
        "id": "3ngYlEJQi6PO"
      },
      "source": [
        "**Matriz de correlacion entre atributos por clase**"
      ]
    },
    {
      "cell_type": "code",
      "execution_count": null,
      "metadata": {
        "id": "3d_iOE7sbTSB"
      },
      "outputs": [],
      "source": [
        "#Otra forma de ver como se relacionan las variables entre si por clases\n",
        "\n",
        "classes = df['Class'].unique()\n",
        "\n",
        "plt.figure(figsize=(70, 55))\n",
        "\n",
        "for i, class_label in enumerate(classes):\n",
        "    class_df = df[df['Class'] == class_label]\n",
        "    correlation_matrix = class_df.corr()\n",
        "    plt.subplot(3, 4, i+1, aspect='equal', adjustable='box')\n",
        "    sns.heatmap(correlation_matrix, annot=True, cmap='coolwarm', fmt=\".2f\")\n",
        "    plt.title(f'Correlation Matrix - Class {class_label}')\n",
        "\n",
        "plt.tight_layout()\n",
        "plt.show()"
      ]
    },
    {
      "cell_type": "markdown",
      "source": [
        "**Grafico de barras por clase**"
      ],
      "metadata": {
        "id": "dWZ6ABHZBVrZ"
      }
    },
    {
      "cell_type": "code",
      "source": [
        "#Cantidad de entradas en cada clase, lo usamos para ver el desbalance de clases\n",
        "\n",
        "unique_classes, counts = np.unique(df[['ClassName']], return_counts=True)\n",
        "\n",
        "sorted_indices = np.argsort(counts)[::-1]\n",
        "sorted_classes = unique_classes[sorted_indices]\n",
        "sorted_counts = counts[sorted_indices]\n",
        "\n",
        "plt.figure(figsize=(10, 8))\n",
        "\n",
        "plt.bar(sorted_classes, sorted_counts, align='center', alpha=0.7, color='#006400')\n",
        "\n",
        "plt.xlabel('Clase')\n",
        "plt.ylabel('Cantidad de Entradas')\n",
        "plt.title('Cantidad de Entradas por Clase')\n",
        "plt.xticks(rotation=60)\n",
        "\n",
        "plt.show()"
      ],
      "metadata": {
        "id": "RnFg3TBiBOAD"
      },
      "execution_count": null,
      "outputs": []
    },
    {
      "cell_type": "markdown",
      "metadata": {
        "id": "XTA1dGuA1ADV"
      },
      "source": [
        "**ATRIBUTOS A USAR**"
      ]
    },
    {
      "cell_type": "code",
      "execution_count": 50,
      "metadata": {
        "id": "-YZWVHhA1EzV"
      },
      "outputs": [],
      "source": [
        "X = df[['Popularity', 'danceability', 'energy', 'loudness', 'speechiness', 'acousticness', 'instrumentalness', 'valence', 'tempo']]\n",
        "y = df[['ClassName']]"
      ]
    },
    {
      "cell_type": "markdown",
      "metadata": {
        "id": "2IA8z4DQkqt-"
      },
      "source": [
        "## **RANDOM FOREST**"
      ]
    },
    {
      "cell_type": "markdown",
      "source": [
        "**TRAIN**"
      ],
      "metadata": {
        "id": "lhpzBe0RdJhR"
      }
    },
    {
      "cell_type": "code",
      "execution_count": null,
      "metadata": {
        "id": "TL3WpZXccFEs"
      },
      "outputs": [],
      "source": [
        "# Modelo RFC con Validacion Cruzada, (SIN SMOTE)\n",
        "\n",
        "X_train, X_test, y_train, y_test = train_test_split(X, y, train_size=0.7, random_state=2, stratify=y)\n",
        "\n",
        "# RFC, FITEO, VALIDACION CRUZADA\n",
        "\n",
        "RFC = RandomForestClassifier(random_state = 42, n_jobs=-1)\n",
        "RFC.fit(X_train, y_train)\n",
        "cv_results = cross_validate(RFC, X_train , y_train, scoring = \"accuracy\", n_jobs = -1, return_estimator = True)\n",
        "\n",
        "# Promedio de los accuracy en cada fold de la Validacion Cruzada del modelo de RFC"
      ]
    },
    {
      "cell_type": "code",
      "execution_count": null,
      "metadata": {
        "id": "PsATNhIfYmNC"
      },
      "outputs": [],
      "source": [
        "cv_results"
      ]
    },
    {
      "cell_type": "code",
      "execution_count": null,
      "metadata": {
        "id": "6UTpmm9FjbYa"
      },
      "outputs": [],
      "source": [
        "#TRAIN#\n",
        "\n",
        "# Matriz de confusion\n",
        "conf_matrix = confusion_matrix(y_train, RFC.predict(X_train))\n",
        "\n",
        "plt.figure(figsize=(8, 6))\n",
        "sns.heatmap(conf_matrix, annot=True, fmt=\"d\", cmap=\"Blues\", cbar=False, xticklabels = clases, yticklabels = clases)\n",
        "\n",
        "plt.xticks(rotation = 45)\n",
        "plt.xlabel(\"Predicciones\")\n",
        "plt.ylabel(\"Clases reales\")\n",
        "\n",
        "plt.title(\"Matriz de Confusión\")\n",
        "plt.show()\n",
        "\n",
        "#Validacion Cruzada\n",
        "scores = cross_val_score(RFC, X_train, y_train, scoring = \"accuracy\")\n",
        "print('Score:', scores.mean())\n",
        "\n",
        "# Accuracy\n",
        "accuracy = accuracy_score(y_train, RFC.predict(X_train))\n",
        "print(\"Accuracy:\", accuracy)\n",
        "\n",
        "# Reporte de clasificación\n",
        "print(classification_report(y_train,RFC.predict(X_train)))"
      ]
    },
    {
      "cell_type": "markdown",
      "source": [
        "**TEST**"
      ],
      "metadata": {
        "id": "MyGaPByXdOMG"
      }
    },
    {
      "cell_type": "code",
      "execution_count": null,
      "metadata": {
        "id": "WTZ7lxHXj4FA"
      },
      "outputs": [],
      "source": [
        "#TEST#\n",
        "\n",
        "# Matriz de confusion\n",
        "conf_matrix = confusion_matrix(y_test, RFC.predict(X_test))\n",
        "\n",
        "plt.figure(figsize=(8, 6))\n",
        "sns.heatmap(conf_matrix, annot=True, fmt=\"d\", cmap=\"Blues\", cbar=False, xticklabels = clases, yticklabels = clases)\n",
        "\n",
        "plt.xticks(rotation = 45)\n",
        "plt.xlabel(\"Predicciones\")\n",
        "plt.ylabel(\"Clases reales\")\n",
        "\n",
        "plt.title(\"Matriz de Confusión\")\n",
        "plt.show()\n",
        "\n",
        "# Accuracy\n",
        "accuracy = accuracy_score(y_test, RFC.predict(X_test))\n",
        "print(\"Accuracy:\", accuracy)\n",
        "\n",
        "# Reporte de clasificación\n",
        "print(classification_report(y_test,RFC.predict(X_test)))"
      ]
    },
    {
      "cell_type": "markdown",
      "metadata": {
        "id": "RYJD5M7h1YPN"
      },
      "source": [
        "## **CLASS WEIGHT**"
      ]
    },
    {
      "cell_type": "code",
      "execution_count": null,
      "metadata": {
        "id": "kdbhcMluSY85"
      },
      "outputs": [],
      "source": [
        " # Class Weight\n",
        "\n",
        "from sklearn.model_selection import train_test_split\n",
        "import random\n",
        "\n",
        "X_train, X_test, y_train, y_test = train_test_split(X, y, train_size=0.7, random_state=2, stratify=y)\n",
        "\n",
        "random.seed(42)\n",
        "\n",
        "# Probamos asignando pesos\n",
        "class_weights = {'Blues': 6, 'Bollywood': 2, 'Country': 2, 'Folk Acústico':6, 'Hip-Hop':1, 'Indie Alternativo':4, 'Instrumental':1, 'Metal':4, 'Música Alternativa':2, 'Pop':2, 'Rock': 0.01}\n",
        "\n",
        "RFC = RandomForestClassifier(class_weight = class_weights)\n",
        "\n",
        "score = cross_val_score(RFC, X_train, y_train, scoring = \"accuracy\")\n",
        "\n",
        "RFC.fit(X_train, y_train)\n",
        "\n",
        "accuracy = accuracy_score(y_test, RFC.predict(X_test))\n",
        "\n",
        "print('Train: ', score.mean())\n",
        "print('Test: ', accuracy)\n",
        "print(classification_report(y_test,RFC.predict(X_test)))"
      ]
    },
    {
      "cell_type": "markdown",
      "metadata": {
        "id": "vVbPk1FZlAWS"
      },
      "source": [
        "## **RANDOM FOREST CON SMOTE**"
      ]
    },
    {
      "cell_type": "markdown",
      "source": [
        "**TRAIN**"
      ],
      "metadata": {
        "id": "4BV_2QIIcr0T"
      }
    },
    {
      "cell_type": "code",
      "execution_count": null,
      "metadata": {
        "id": "qIm8CZHNdMeO"
      },
      "outputs": [],
      "source": [
        "# SMOTE\n",
        "random.seed(42)\n",
        "\n",
        "X_train, X_test, y_train, y_test = train_test_split(X, y, train_size=0.7, random_state=2, stratify=y)\n",
        "\n",
        "# SMOTE\n",
        "smote = SMOTE(sampling_strategy='auto', random_state=42)\n",
        "\n",
        "X_resampled, y_resampled = smote.fit_resample(X_train, y_train)\n",
        "\n",
        "# RFC con SMOTE\n",
        "RFC = RandomForestClassifier(random_state = 42, n_jobs=-1)\n",
        "RFC.fit(X_resampled, y_resampled)\n",
        "\n",
        "# Validacion Cruzada en los datos de RFC con SMOTE\n",
        "cv_results = cross_validate(RFC, X_resampled, y_resampled, scoring = \"accuracy\", n_jobs = -1, return_estimator = True)\n",
        "\n",
        "# Promedio de los accuracy en cada fold de la Validacion Cruzada del modelo de RFC con SMOTE\n",
        "scores = cross_val_score(RFC, X_resampled, y_resampled, scoring = \"accuracy\")\n",
        "print('Score:', scores.mean())\n",
        "\n",
        "# conteo_clases = y_resampled['Class'].value_counts()       # Cantidad de clases que hay en el df con SMOTE"
      ]
    },
    {
      "cell_type": "code",
      "source": [
        "cv_results"
      ],
      "metadata": {
        "id": "ZiXSeOr5-591"
      },
      "execution_count": null,
      "outputs": []
    },
    {
      "cell_type": "code",
      "execution_count": null,
      "metadata": {
        "id": "VCAWRTPxclvd"
      },
      "outputs": [],
      "source": [
        "# Accuracys, recall, f1-score del modelo RFC con SMOTE\n",
        "\n",
        "# scores = cross_val_predict(RFC, X_resampled, y_resampled, n_jobs=-1, method = 'predict')          # DE QUE NOS SIRVE?\n",
        "# print('Score:', scores.mean())\n",
        "\n",
        "conf_matrix = confusion_matrix(y_resampled, RFC.predict(X_resampled))\n",
        "\n",
        "plt.figure(figsize=(8, 6))\n",
        "sns.heatmap(conf_matrix, annot=True, fmt=\"d\", cmap=\"Blues\", cbar=False, xticklabels = clases, yticklabels = clases)\n",
        "\n",
        "# Agrega etiquetas a los ejes.\n",
        "plt.xticks(rotation = 45)\n",
        "plt.xlabel(\"Predicciones\")\n",
        "plt.ylabel(\"Clases reales\")\n",
        "\n",
        "# Agrega títulos y muestra el gráfico.\n",
        "plt.title(\"Matriz de Confusión\")\n",
        "plt.show()\n",
        "\n",
        "\n",
        "#TRAIN\n",
        "accuracy = accuracy_score(y_resampled, RFC.predict(X_resampled))\n",
        "print(\"Accuracy en Train:\", accuracy)\n",
        "\n",
        "# Mostrar el reporte de clasificación\n",
        "print(classification_report(y_resampled, RFC.predict(X_resampled)))\n",
        "\n"
      ]
    },
    {
      "cell_type": "markdown",
      "source": [
        "**TEST**"
      ],
      "metadata": {
        "id": "23hTADkacjui"
      }
    },
    {
      "cell_type": "code",
      "execution_count": null,
      "metadata": {
        "id": "KcPc5em-dwi0"
      },
      "outputs": [],
      "source": [
        "# Matriz sobre los conjuntos resampled de SMOTE\n",
        "\n",
        "conf_matrix = confusion_matrix(y_test, RFC.predict(X_test))\n",
        "\n",
        "plt.figure(figsize=(8, 6))\n",
        "sns.heatmap(conf_matrix, annot=True, fmt=\"d\", cmap=\"Blues\", cbar=False, xticklabels = clases, yticklabels = clases)\n",
        "\n",
        "plt.xticks(rotation = 45)\n",
        "plt.xlabel(\"Predicciones\")\n",
        "plt.ylabel(\"Clases reales\")\n",
        "\n",
        "plt.title(\"Matriz de Confusión\")\n",
        "plt.show()\n",
        "\n",
        "#TEST\n",
        "accuracy = accuracy_score(y_test, RFC.predict(X_test))\n",
        "print(\"Accuracy en Test:\", accuracy)\n",
        "\n",
        "# Reporte de clasificación\n",
        "print(classification_report(y_test, RFC.predict(X_test)))"
      ]
    },
    {
      "cell_type": "markdown",
      "metadata": {
        "id": "RWcO2yXpmV9f"
      },
      "source": [
        "## **SEPARANDO ROCK**"
      ]
    },
    {
      "cell_type": "code",
      "execution_count": null,
      "metadata": {
        "id": "waRqVVEUpudK"
      },
      "outputs": [],
      "source": [
        "random.seed(42)\n",
        "\n",
        "# CONJUNTO DE DATOS ROCK\n",
        "X = df[['Popularity', 'danceability', 'energy', 'loudness', 'speechiness', 'acousticness', 'instrumentalness', 'valence', 'tempo']]\n",
        "y = df[['Rock']]\n",
        "\n",
        "X_train, X_test, y_train, y_test = train_test_split(X, y, train_size=0.7, random_state=2, stratify=y)\n",
        "\n",
        "# RFC de ROCK O NO\n",
        "RFC = RandomForestClassifier(random_state = 42, n_jobs=-1)\n",
        "\n",
        "# Validacion Cruzada de ROCK O NO\n",
        "cv_results = cross_validate(RFC, X_train, y_train, scoring = \"accuracy\")\n",
        "\n",
        "score = cross_val_score(RFC, X_train, y_train, n_jobs=-1)\n",
        "\n",
        "# FIT\n",
        "RFC.fit(X_train, y_train)\n",
        "\n",
        "# Matriz de los datos\n",
        "conf_matrix = confusion_matrix(y_test, RFC.predict(X_test))\n",
        "\n",
        "plt.figure(figsize=(8, 6))\n",
        "sns.heatmap(conf_matrix, annot=True, fmt=\"d\", cmap=\"Blues\", cbar=False)\n",
        "\n",
        "# Agrega etiquetas a los ejes.\n",
        "plt.xlabel(\"Predicciones\")\n",
        "plt.ylabel(\"Clases reales\")\n",
        "\n",
        "# Agrega títulos y muestra el gráfico.\n",
        "plt.title(\"Matriz de Confusión\")\n",
        "plt.show()\n",
        "\n",
        "print(cv_results)\n",
        "print(score.mean())\n",
        "\n",
        "# Reporte de Clasificacion\n",
        "print(classification_report(y_test, RFC.predict(X_test)))\n",
        "df"
      ]
    },
    {
      "cell_type": "markdown",
      "source": [
        "**DATOS SIN ROCK**"
      ],
      "metadata": {
        "id": "NlvY1ND-c1Kj"
      }
    },
    {
      "cell_type": "code",
      "execution_count": null,
      "metadata": {
        "id": "oVbZAMLhv6pq"
      },
      "outputs": [],
      "source": [
        "# CONJUNTO DE DATOS SIN ROCK\n",
        "\n",
        "random.seed(42)\n",
        "\n",
        "# DATOS SIN ROCK\n",
        "df2 = df.loc[df['Rock'] == False]\n",
        "\n",
        "clases1 = ['Folk Acústico', 'Música Alternativa', 'Blues', 'Bollywood', 'Country', 'Hip-Hop', 'Indie Alternativo', 'Instrumental', 'Metal', 'Pop']\n",
        "\n",
        "X = df2[['Popularity', 'danceability', 'energy', 'loudness', 'speechiness', 'acousticness', 'instrumentalness', 'valence', 'tempo']]\n",
        "y = df2[['ClassName']]\n",
        "\n",
        "X_train, X_test, y_train, y_test = train_test_split(X, y, train_size=0.7, random_state=2, stratify=y)\n",
        "\n",
        "# RFC DE SIN ROCK\n",
        "RFC = RandomForestClassifier(random_state = 42, n_jobs=-1)\n",
        "\n",
        "# VALIDACION CRUZADA DE SIN ROCK\n",
        "scores = cross_val_score(RFC, X_train, y_train, scoring = \"accuracy\", n_jobs=-1)\n",
        "cv_results = cross_validate(RFC, X_train, y_train, scoring = \"accuracy\")\n",
        "print(cv_results)\n",
        "print('Score:', scores.mean())\n",
        "\n",
        "# FIT\n",
        "RFC.fit(X_train, y_train)\n",
        "\n",
        "# Matriz DE SIN ROCK\n",
        "conf_matrix = confusion_matrix(y_train, RFC.predict(X_train))\n",
        "#conf_matrix = confusion_matrix(y_train, y_pred)\n",
        "\n",
        "plt.figure(figsize=(8, 6))\n",
        "sns.heatmap(conf_matrix, annot=True, fmt=\"d\", cmap=\"Blues\", cbar=False, xticklabels = clases1, yticklabels = clases1)\n",
        "\n",
        "# Agrega etiquetas a los ejes.\n",
        "plt.xticks(rotation = 45)\n",
        "plt.xlabel(\"Predicciones\")\n",
        "plt.ylabel(\"Clases reales\")\n",
        "\n",
        "# Agrega títulos y muestra el gráfico.\n",
        "plt.title(\"Matriz de Confusión\")\n",
        "plt.show()\n",
        "\n",
        "# Reporte de Clasificacion\n",
        "print(classification_report(y_train, RFC.predict(X_train)))"
      ]
    },
    {
      "cell_type": "markdown",
      "source": [
        "**SIN ROCK CON SMOTE**"
      ],
      "metadata": {
        "id": "FNtNCXDGdmv7"
      }
    },
    {
      "cell_type": "code",
      "execution_count": null,
      "metadata": {
        "id": "BDOZvpl41zWS"
      },
      "outputs": [],
      "source": [
        "# AHORA VER EL SMOTE EN EL CONJUNTO DE DATOS DE SIN ROCK\n",
        "\n",
        "# SMOTE\n",
        "smote = SMOTE(sampling_strategy='auto', random_state=42)\n",
        "\n",
        "X_train, X_test, y_train, y_test = train_test_split(X, y, train_size=0.7, random_state=2, stratify=y)\n",
        "\n",
        "X_resampled, y_resampled = smote.fit_resample(X_train, y_train)\n",
        "\n",
        "# RFC con SMOTE\n",
        "RFC = RandomForestClassifier(random_state = 42, n_jobs=-1)\n",
        "RFC.fit(X_resampled, y_resampled)\n",
        "\n",
        "# Validacion Cruzada en los datos de RFC con SMOTE\n",
        "cross_validate(RFC, X_resampled, y_resampled, scoring = \"accuracy\", n_jobs = -1, return_estimator = True)\n",
        "scores = cross_val_score(RFC, X_resampled, y_resampled, scoring = \"accuracy\", n_jobs=-1)\n",
        "\n",
        "print('Score:', scores.mean())\n",
        "print(cv_results)\n",
        "\n",
        "# Matriz DE SIN ROCK\n",
        "conf_matrix = confusion_matrix(y_resampled, RFC.predict(X_resampled))\n",
        "#conf_matrix = confusion_matrix(y_train, y_pred)\n",
        "\n",
        "\n",
        "plt.figure(figsize=(8, 6))\n",
        "sns.heatmap(conf_matrix, annot=True, fmt=\"d\", cmap=\"Blues\", cbar=False, xticklabels = clases1, yticklabels = clases1)\n",
        "\n",
        "# Agrega etiquetas a los ejes.\n",
        "plt.xticks(rotation = 45)\n",
        "plt.xlabel(\"Predicciones\")\n",
        "plt.ylabel(\"Clases reales\")\n",
        "\n",
        "# Agrega títulos y muestra el gráfico.\n",
        "plt.title(\"Matriz de Confusión\")\n",
        "plt.show()\n",
        "\n",
        "\n",
        "\n",
        "\n",
        "# Reporte de Clasificacion\n",
        "print(classification_report(y_resampled, RFC.predict(X_resampled)))\n",
        "\n",
        "# EL PROMEDIO DE ACC BAJA UN 0.07, Y EL RECALL AUMENTA UN 0.07 CON RESPECTO AL MODELO SIN SMOTE\n",
        "# EL SMOTE NO TERMINA SIENDO SIGNIFICATIVO"
      ]
    },
    {
      "cell_type": "markdown",
      "metadata": {
        "id": "gt2b2J6c1hAn"
      },
      "source": [
        "## **CURVA ROC EN EL MODELO RANDOM FOREST**"
      ]
    },
    {
      "cell_type": "code",
      "execution_count": null,
      "metadata": {
        "id": "spF6c7oGPmEC"
      },
      "outputs": [],
      "source": [
        "## CURVA ROC ##\n",
        "\n",
        "from sklearn.metrics import roc_curve, auc\n",
        "from itertools import cycle\n",
        "from sklearn.preprocessing import label_binarize\n",
        "from sklearn.multiclass import OneVsRestClassifier\n",
        "\n",
        "X = df[['Popularity', 'danceability', 'energy', 'loudness', 'speechiness', 'acousticness', 'instrumentalness', 'valence', 'tempo']]\n",
        "y = df[['Class']]\n",
        "\n",
        "X_train, X_test, y_train, y_test = train_test_split(X, y, train_size=0.7, random_state=2, stratify=y)\n",
        "\n",
        "RFC = OneVsRestClassifier(RandomForestClassifier(random_state = 42, n_jobs=-1))\n",
        "RFC.fit(X_train, y_train)\n",
        "#RFC.fit(X_resampled, y_resampled)\n",
        "\n",
        "y_pred = RFC.predict_proba(X_test)\n",
        "\n",
        "y_test_bin = label_binarize(y_test, classes=list(range(11)))\n",
        "\n",
        "fpr = dict()\n",
        "tpr = dict()\n",
        "roc_auc = dict()\n",
        "\n",
        "for i in range(11):\n",
        "    fpr[i], tpr[i], _ = roc_curve(y_test_bin[:, i], y_pred[:, i])\n",
        "    roc_auc[i] = auc(fpr[i], tpr[i])\n",
        "\n",
        "colors = cycle(['blue', 'orange', 'green', 'red', 'purple', 'brown', 'pink', 'gray', 'olive', 'cyan', 'black'])\n",
        "\n",
        "plt.figure(figsize=(8, 6))\n",
        "\n",
        "for i in range(len(fpr)):\n",
        "    plt.plot(fpr[i], tpr[i], label=f'{clases[i]} (AUC = {roc_auc[i]:.2f})')\n",
        "\n",
        "plt.plot([0, 1], [0, 1], color='navy', lw=2, linestyle='--')\n",
        "plt.xlabel('Tasa de Falsos Positivos')\n",
        "plt.ylabel('Tasa de Verdaderos Positivos')\n",
        "plt.title('Curva ROC Multiclase')\n",
        "plt.legend(loc='lower right')\n",
        "plt.show()"
      ]
    }
  ],
  "metadata": {
    "colab": {
      "provenance": []
    },
    "kernelspec": {
      "display_name": "Python 3",
      "name": "python3"
    },
    "language_info": {
      "name": "python"
    }
  },
  "nbformat": 4,
  "nbformat_minor": 0
}